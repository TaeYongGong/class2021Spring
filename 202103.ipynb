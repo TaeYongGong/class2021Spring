{
  "nbformat": 4,
  "nbformat_minor": 0,
  "metadata": {
    "colab": {
      "name": "202103.ipynb",
      "provenance": [],
      "authorship_tag": "ABX9TyNxFI67Eq8Hh6fNz/Hdn9Fp",
      "include_colab_link": true
    },
    "kernelspec": {
      "name": "python3",
      "display_name": "Python 3"
    }
  },
  "cells": [
    {
      "cell_type": "markdown",
      "metadata": {
        "id": "view-in-github",
        "colab_type": "text"
      },
      "source": [
        "<a href=\"https://colab.research.google.com/github/TaeYongGong/class2021Spring/blob/main/202103.ipynb\" target=\"_parent\"><img src=\"https://colab.research.google.com/assets/colab-badge.svg\" alt=\"Open In Colab\"/></a>"
      ]
    },
    {
      "cell_type": "markdown",
      "metadata": {
        "id": "uKHNf1AnNr7X"
      },
      "source": [
        "# 오늘 배운 것\r\n",
        "- github 계정 만들기, login해서 reporsitory 만들기 (이름은 class2021Spring)\r\n",
        "  1. *python*\r\n",
        "  2. *markdown language*\r\n"
      ]
    },
    {
      "cell_type": "markdown",
      "metadata": {
        "id": "izMyI7_MWJqz"
      },
      "source": [
        "> 우리는 파이썬을 배우게 됩니다.\r\n",
        "# 파이썬을 어디서 배우나요?\r\n",
        "### Jump to python "
      ]
    },
    {
      "cell_type": "markdown",
      "metadata": {
        "id": "fsCoyqIJUTq1"
      },
      "source": [
        ""
      ]
    },
    {
      "cell_type": "code",
      "metadata": {
        "id": "tfXvM3FRUJF8",
        "colab": {
          "base_uri": "https://localhost:8080/"
        },
        "outputId": "a28dca7a-52c5-4687-f23b-3a4f97ce2bac"
      },
      "source": [
        "a = 1\r\n",
        "b = 1 \r\n",
        "c = a+b\r\n",
        "c"
      ],
      "execution_count": 1,
      "outputs": [
        {
          "output_type": "execute_result",
          "data": {
            "text/plain": [
              "2"
            ]
          },
          "metadata": {
            "tags": []
          },
          "execution_count": 1
        }
      ]
    }
  ]
}