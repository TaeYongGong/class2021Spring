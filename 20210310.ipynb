{
  "nbformat": 4,
  "nbformat_minor": 0,
  "metadata": {
    "colab": {
      "name": "20210310.ipynb",
      "provenance": [],
      "authorship_tag": "ABX9TyOgdaESZlmKUeiIkc5M4QHU",
      "include_colab_link": true
    },
    "kernelspec": {
      "name": "python3",
      "display_name": "Python 3"
    }
  },
  "cells": [
    {
      "cell_type": "markdown",
      "metadata": {
        "id": "view-in-github",
        "colab_type": "text"
      },
      "source": [
        "<a href=\"https://colab.research.google.com/github/TaeYongGong/class2021Spring/blob/main/20210310.ipynb\" target=\"_parent\"><img src=\"https://colab.research.google.com/assets/colab-badge.svg\" alt=\"Open In Colab\"/></a>"
      ]
    },
    {
      "cell_type": "markdown",
      "metadata": {
        "id": "fsCoyqIJUTq1"
      },
      "source": [
        "# **프로그래밍 Language**\r\n",
        "---\r\n",
        "- 인간의 language : 단어 + 문법 \r\n",
        "- **컴퓨터의 language(프로그래밍 language)** :  단어 == **variable** + 문법 == **제어문** \r\n",
        "  - 컴퓨터 언어에서 =은 오른쪽의 내용을 왼쪽에 assign하는 것. *assign 표시*\r\n",
        "  - 제어문에는 두가지가 있음.\r\n",
        "    1. 반복 : for\r\n",
        "    2. 조건 : if\r\n",
        "  ***\r\n",
        "- **함수**\r\n",
        "  - 입출력 관계를 assume\r\n",
        "  - 입력 -> 변화(함수) -> 출력\r\n",
        "    > ex) y = f(x); y = ax + b; 일차함수 : 가장 쉬운 형태의 함수 \r\n"
      ]
    },
    {
      "cell_type": "markdown",
      "metadata": {
        "id": "tfXvM3FRUJF8"
      },
      "source": [
        ""
      ]
    }
  ]
}