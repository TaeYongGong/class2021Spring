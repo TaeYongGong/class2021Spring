{
  "nbformat": 4,
  "nbformat_minor": 0,
  "metadata": {
    "colab": {
      "name": "20210310.ipynb",
      "provenance": [],
      "authorship_tag": "ABX9TyOtEKNY8IXygmELcYSDHaUv",
      "include_colab_link": true
    },
    "kernelspec": {
      "name": "python3",
      "display_name": "Python 3"
    }
  },
  "cells": [
    {
      "cell_type": "markdown",
      "metadata": {
        "id": "view-in-github",
        "colab_type": "text"
      },
      "source": [
        "<a href=\"https://colab.research.google.com/github/TaeYongGong/class2021Spring/blob/main/20210310.ipynb\" target=\"_parent\"><img src=\"https://colab.research.google.com/assets/colab-badge.svg\" alt=\"Open In Colab\"/></a>"
      ]
    },
    {
      "cell_type": "markdown",
      "metadata": {
        "id": "uKHNf1AnNr7X"
      },
      "source": [
        "# 오늘 배운 것\r\n",
        "- github 계정 만들기, login해서 reporsitory 만들기 (이름은 class2021Spring)\r\n",
        "  1. *python*\r\n",
        "  2. *markdown language*\r\n"
      ]
    },
    {
      "cell_type": "markdown",
      "metadata": {
        "id": "izMyI7_MWJqz"
      },
      "source": [
        "> 우리는 파이썬을 배우게 됩니다.\r\n",
        "# 파이썬을 어디서 배우나요?\r\n",
        "### Jump to python "
      ]
    },
    {
      "cell_type": "markdown",
      "metadata": {
        "id": "fsCoyqIJUTq1"
      },
      "source": [
        "# **프로그래밍 language**\r\n",
        "- 인간의 language : 단어 + 문법 \r\n",
        "- 컴퓨터의 language(프로그래밍 language) :  단어 -> 객체지향 + 문법 ->  \r\n"
      ]
    },
    {
      "cell_type": "markdown",
      "metadata": {
        "id": "tfXvM3FRUJF8"
      },
      "source": [
        ""
      ]
    }
  ]
}