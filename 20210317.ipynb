{
  "nbformat": 4,
  "nbformat_minor": 0,
  "metadata": {
    "colab": {
      "name": "20210317.ipynb의 사본",
      "provenance": [],
      "authorship_tag": "ABX9TyOcmxIrO7rNsXt3agMWWCUQ",
      "include_colab_link": true
    },
    "kernelspec": {
      "name": "python3",
      "display_name": "Python 3"
    }
  },
  "cells": [
    {
      "cell_type": "markdown",
      "metadata": {
        "id": "view-in-github",
        "colab_type": "text"
      },
      "source": [
        "<a href=\"https://colab.research.google.com/github/TaeYongGong/class2021Spring/blob/main/20210317.ipynb\" target=\"_parent\"><img src=\"https://colab.research.google.com/assets/colab-badge.svg\" alt=\"Open In Colab\"/></a>"
      ]
    },
    {
      "cell_type": "code",
      "metadata": {
        "colab": {
          "base_uri": "https://localhost:8080/"
        },
        "id": "iQ89YAr9uYdL",
        "outputId": "325bc638-3016-4a95-a977-a71e0d3e7c7c"
      },
      "source": [
        "a = ['A','B','C','D']\r\n",
        "b = list(range(10))\r\n",
        "k = []\r\n",
        "for i in a:\r\n",
        "  for j in b:\r\n",
        "    if j != 2:\r\n",
        "      k += [str(j) + i]\r\n",
        "print(k)\r\n",
        "[str(j) + i  for i in a  for j in b if j!= 2] "
      ],
      "execution_count": null,
      "outputs": [
        {
          "output_type": "stream",
          "text": [
            "['0A', '1A', '3A', '4A', '5A', '6A', '7A', '8A', '9A', '0B', '1B', '3B', '4B', '5B', '6B', '7B', '8B', '9B', '0C', '1C', '3C', '4C', '5C', '6C', '7C', '8C', '9C', '0D', '1D', '3D', '4D', '5D', '6D', '7D', '8D', '9D']\n"
          ],
          "name": "stdout"
        },
        {
          "output_type": "execute_result",
          "data": {
            "text/plain": [
              "['0A',\n",
              " '1A',\n",
              " '3A',\n",
              " '4A',\n",
              " '5A',\n",
              " '6A',\n",
              " '7A',\n",
              " '8A',\n",
              " '9A',\n",
              " '0B',\n",
              " '1B',\n",
              " '3B',\n",
              " '4B',\n",
              " '5B',\n",
              " '6B',\n",
              " '7B',\n",
              " '8B',\n",
              " '9B',\n",
              " '0C',\n",
              " '1C',\n",
              " '3C',\n",
              " '4C',\n",
              " '5C',\n",
              " '6C',\n",
              " '7C',\n",
              " '8C',\n",
              " '9C',\n",
              " '0D',\n",
              " '1D',\n",
              " '3D',\n",
              " '4D',\n",
              " '5D',\n",
              " '6D',\n",
              " '7D',\n",
              " '8D',\n",
              " '9D']"
            ]
          },
          "metadata": {
            "tags": []
          },
          "execution_count": 15
        }
      ]
    }
  ]
}