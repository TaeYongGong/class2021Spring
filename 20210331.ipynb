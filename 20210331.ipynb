{
  "nbformat": 4,
  "nbformat_minor": 0,
  "metadata": {
    "colab": {
      "name": "20210331.ipynb",
      "provenance": [],
      "authorship_tag": "ABX9TyOrnAerZIV9jTG7GEc9x1DV",
      "include_colab_link": true
    },
    "kernelspec": {
      "name": "python3",
      "display_name": "Python 3"
    },
    "language_info": {
      "name": "python"
    }
  },
  "cells": [
    {
      "cell_type": "markdown",
      "metadata": {
        "id": "view-in-github",
        "colab_type": "text"
      },
      "source": [
        "<a href=\"https://colab.research.google.com/github/TaeYongGong/class2021Spring/blob/main/20210331.ipynb\" target=\"_parent\"><img src=\"https://colab.research.google.com/assets/colab-badge.svg\" alt=\"Open In Colab\"/></a>"
      ]
    },
    {
      "cell_type": "markdown",
      "metadata": {
        "id": "-hTfq7Gk323T"
      },
      "source": [
        "/aː/\n",
        "\n",
        "- pitch : 134.1Hz\n",
        "- intensity : 73.53db\n",
        "- formant  \n",
        "  - F1 : 804Hz\n",
        "  - F2 :1093Hz\n",
        "- duration : 0.260962 sec\n",
        "\n",
        "/e/\n",
        "\n",
        "- pitch : 119.6Hz\n",
        "- intensity : 66.03db\n",
        "- formant\n",
        "    - F1 :553Hz\n",
        "    - F2 :1789Hz\n",
        "- duration : 0.256753 sec"
      ]
    }
  ]
}