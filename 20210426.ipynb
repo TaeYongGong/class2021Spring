{
  "nbformat": 4,
  "nbformat_minor": 0,
  "metadata": {
    "colab": {
      "name": "Untitled6.ipynb",
      "provenance": [],
      "authorship_tag": "ABX9TyPdHAl3zmxAB0+aj+1SE3ZH",
      "include_colab_link": true
    },
    "kernelspec": {
      "name": "python3",
      "display_name": "Python 3"
    },
    "language_info": {
      "name": "python"
    }
  },
  "cells": [
    {
      "cell_type": "markdown",
      "metadata": {
        "id": "view-in-github",
        "colab_type": "text"
      },
      "source": [
        "<a href=\"https://colab.research.google.com/github/TaeYongGong/class2021Spring/blob/main/20210426.ipynb\" target=\"_parent\"><img src=\"https://colab.research.google.com/assets/colab-badge.svg\" alt=\"Open In Colab\"/></a>"
      ]
    },
    {
      "cell_type": "code",
      "metadata": {
        "id": "9ev3fyPBxZQE"
      },
      "source": [
        "%matplotlib inline\n",
        "from matplotlib import pyplot as plt\n",
        "import IPython.display as ipd\n",
        "import numpy as np\n",
        "from scipy.signal import lfilter"
      ],
      "execution_count": 11,
      "outputs": []
    },
    {
      "cell_type": "code",
      "metadata": {
        "id": "QxMwklhMyMvl"
      },
      "source": [
        "def phasor(amp,sr,dur,freq):\n",
        "  t = np.arange(1, sr * dur+1)/sr\n",
        "  theta = t*2*np.pi*freq\n",
        "  s = np.sin(theta)\n",
        "  return s, theta, t"
      ],
      "execution_count": 8,
      "outputs": []
    },
    {
      "cell_type": "code",
      "metadata": {
        "id": "35X51MzayOtc"
      },
      "source": [
        "amp = 1        \n",
        "sr = 10000      \n",
        "dur = 0.5      \n",
        "freq = 100.0 "
      ],
      "execution_count": 9,
      "outputs": []
    },
    {
      "cell_type": "code",
      "metadata": {
        "colab": {
          "base_uri": "https://localhost:8080/"
        },
        "id": "4bSmNfGXyP5l",
        "outputId": "7473a8d4-fb85-4b21-d7a7-5e5620114a93"
      },
      "source": [
        "print(phasor(amp,sr,dur,freq))"
      ],
      "execution_count": 10,
      "outputs": [
        {
          "output_type": "stream",
          "text": [
            "(array([ 6.27905195e-02,  1.25333234e-01,  1.87381315e-01, ...,\n",
            "       -1.25333234e-01, -6.27905195e-02,  1.96438672e-15]), array([6.28318531e-02, 1.25663706e-01, 1.88495559e-01, ...,\n",
            "       3.14033602e+02, 3.14096434e+02, 3.14159265e+02]), array([1.000e-04, 2.000e-04, 3.000e-04, ..., 4.998e-01, 4.999e-01,\n",
            "       5.000e-01]))\n"
          ],
          "name": "stdout"
        }
      ]
    }
  ]
}