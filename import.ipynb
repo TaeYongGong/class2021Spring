{
  "nbformat": 4,
  "nbformat_minor": 0,
  "metadata": {
    "colab": {
      "name": "import.ipynb의 사본",
      "provenance": [],
      "include_colab_link": true
    },
    "kernelspec": {
      "name": "python3",
      "display_name": "Python 3"
    },
    "language_info": {
      "name": "python"
    }
  },
  "cells": [
    {
      "cell_type": "markdown",
      "metadata": {
        "id": "view-in-github",
        "colab_type": "text"
      },
      "source": [
        "<a href=\"https://colab.research.google.com/github/TaeYongGong/class2021Spring/blob/main/import.ipynb\" target=\"_parent\"><img src=\"https://colab.research.google.com/assets/colab-badge.svg\" alt=\"Open In Colab\"/></a>"
      ]
    },
    {
      "cell_type": "markdown",
      "metadata": {
        "id": "qHAsn_a3iC-7"
      },
      "source": [
        "# 패키지와 모듈을 불러올때는 \n",
        "- import \n",
        "- from\n",
        "을 이용한다. \n",
        "- as로 새로운 str을 assign할 수 있다. \n",
        "\n",
        "----\n",
        "중요 패키지\n",
        "- numpy\n",
        "- pandas\n",
        "- matplotlib\n",
        "- tensorflow\n",
        "- pytorch\n",
        "- nltk\n",
        "- konlpy\n",
        "... \n"
      ]
    },
    {
      "cell_type": "code",
      "metadata": {
        "id": "JXicrkYOzPRo"
      },
      "source": [
        "import numpy as np\n",
        "n = np.random.randn(100)"
      ],
      "execution_count": 14,
      "outputs": []
    },
    {
      "cell_type": "code",
      "metadata": {
        "id": "oKT4vn4MwyLA",
        "outputId": "a8c05b2d-6077-4c0d-aa88-7252b4bd9cbd",
        "colab": {
          "base_uri": "https://localhost:8080/",
          "height": 360
        }
      },
      "source": [
        "import matplotlib\n",
        "import matplotlib.pyplot\n",
        "from matplotlib import pyplot\n",
        "from matplotlib import pyplot as plt\n",
        "from matplotlib.pyplot import hist\n",
        "\n",
        "matplotlib.pyplot.hist(n)\n",
        "pyplot.hist(n)\n",
        "plt.hist(n)\n",
        "hist(n)\n",
        "# 전부 같은 결과이다."
      ],
      "execution_count": 13,
      "outputs": [
        {
          "output_type": "execute_result",
          "data": {
            "text/plain": [
              "(array([ 1.,  2.,  7.,  7., 20., 20., 21., 12.,  9.,  1.]),\n",
              " array([-3.01449733, -2.4807998 , -1.94710227, -1.41340474, -0.87970721,\n",
              "        -0.34600968,  0.18768785,  0.72138538,  1.25508291,  1.78878044,\n",
              "         2.32247797]),\n",
              " <a list of 10 Patch objects>)"
            ]
          },
          "metadata": {
            "tags": []
          },
          "execution_count": 13
        },
        {
          "output_type": "display_data",
          "data": {
            "image/png": "[encoded data removed]",
            "text/plain": [
              "<Figure size 432x288 with 1 Axes>"
            ]
          },
          "metadata": {
            "tags": [],
            "needs_background": "light"
          }
        }
      ]
    }
  ]
}