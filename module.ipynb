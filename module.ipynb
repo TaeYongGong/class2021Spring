{
  "nbformat": 4,
  "nbformat_minor": 0,
  "metadata": {
    "colab": {
      "name": "module.ipynb의 사본",
      "provenance": [],
      "collapsed_sections": [],
      "include_colab_link": true
    },
    "kernelspec": {
      "name": "python3",
      "display_name": "Python 3"
    },
    "language_info": {
      "name": "python"
    }
  },
  "cells": [
    {
      "cell_type": "markdown",
      "metadata": {
        "id": "view-in-github",
        "colab_type": "text"
      },
      "source": [
        "<a href=\"https://colab.research.google.com/github/TaeYongGong/class2021Spring/blob/main/module.ipynb\" target=\"_parent\"><img src=\"https://colab.research.google.com/assets/colab-badge.svg\" alt=\"Open In Colab\"/></a>"
      ]
    },
    {
      "cell_type": "markdown",
      "metadata": {
        "id": "7UgWhSAEbWte"
      },
      "source": [
        "# **Class**\n",
        "- *object oriented program*\n",
        "- 함수 + 변수\n",
        "- 변수 : self.result에서 reslut가 변수이다.  \n",
        "- class class_name:\n",
        "   \n",
        "   \n",
        "    def __init__(self):\n",
        "    self.result = 0 \n",
        "\n",
        "- 필수 구문\n",
        "- 나 자신의 변수에다가 0을 넣어라.\n",
        "\n",
        "    \n",
        "    def add(self, n):\n",
        "      self.result += n\n",
        "      return self.result\n",
        "\n",
        "\n",
        "- 위에 만들어놓았던 self의 변수에 대해서 지금 가지고 온 입력을 가지고 n만큼 더 더해주는 것.(update) \n",
        "    "
      ]
    },
    {
      "cell_type": "code",
      "metadata": {
        "id": "sU1MEIdt2UEc"
      },
      "source": [
        "class cal:\n",
        "  def __init__(self):\n",
        "    self.result = 0\n",
        "  def add(self, n):\n",
        "    self.result += n\n",
        "    return self.result"
      ],
      "execution_count": null,
      "outputs": []
    },
    {
      "cell_type": "code",
      "metadata": {
        "colab": {
          "base_uri": "https://localhost:8080/"
        },
        "id": "6lDlJzZWcrX9",
        "outputId": "729c1dec-7898-4c8b-af6b-53b6233ad2ba"
      },
      "source": [
        "A = cal()\n",
        "A.result\n",
        "A.add(4)\n",
        "# # 우리가 객체를 하나 만들어낼때 __int__가 실행되고 거기에 변수 0이 들어가고 거기에서\n",
        "# # add라는 자체함수를 실행시킨다. \n",
        "A.add(9)\n",
        "# # A에다가 계속 더할 수 있다. \n",
        "A.add(10)"
      ],
      "execution_count": null,
      "outputs": [
        {
          "output_type": "execute_result",
          "data": {
            "text/plain": [
              "23"
            ]
          },
          "metadata": {
            "tags": []
          },
          "execution_count": 19
        }
      ]
    },
    {
      "cell_type": "code",
      "metadata": {
        "colab": {
          "base_uri": "https://localhost:8080/"
        },
        "id": "Mkx9e8Aode0l",
        "outputId": "d2f5a1e4-2b0e-4e9b-8736-64409a76bd45"
      },
      "source": [
        "B = cal()\n",
        "B.result\n",
        "B.add(10)"
      ],
      "execution_count": null,
      "outputs": [
        {
          "output_type": "execute_result",
          "data": {
            "text/plain": [
              "10"
            ]
          },
          "metadata": {
            "tags": []
          },
          "execution_count": 21
        }
      ]
    },
    {
      "cell_type": "code",
      "metadata": {
        "id": "8NJU9X3Resxl"
      },
      "source": [
        "def func(a,b,x):\n",
        "  y = a*x + b\n",
        "  return y"
      ],
      "execution_count": 1,
      "outputs": []
    },
    {
      "cell_type": "markdown",
      "metadata": {
        "id": "GsavMYBse0KS"
      },
      "source": [
        "# **모듈**\n",
        "- 모듈은 class, function, variable의 모음\n",
        "- 하나의 파일에 모두 모아놓음\n",
        "- 파이썬의 모듈은 .py의 형식\n",
        "\n",
        "# **패키지**\n",
        "- 모듈들을 모아놓은 폴더 \n",
        "  - 모듈1, 모듈2, 모듈3 ....와 같은 py파일을 하나의 폴더안에 모아놓음. \n",
        "- 여러 모듈의 덩어리를 하나의 패키지로 묶음. \n",
        "\n",
        "## **이를 불러올러면?**\n",
        "import package \n",
        "\n",
        "as \n",
        "\n",
        "from prackage \n",
        "\n",
        "import class\n",
        "\n",
        "as \n",
        "\n",
        "\n"
      ]
    },
    {
      "cell_type": "markdown",
      "metadata": {
        "id": "DCaM7QKtfsll"
      },
      "source": [
        "-----\n",
        "# 정리\n",
        "- variable \n",
        "- function\n",
        "- class \n",
        "- module \n",
        "- package\n",
        " "
      ]
    }
  ]
}