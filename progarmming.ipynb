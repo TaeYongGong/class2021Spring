{
  "nbformat": 4,
  "nbformat_minor": 0,
  "metadata": {
    "colab": {
      "name": "progarmming.ipynb",
      "provenance": [],
      "collapsed_sections": [],
      "authorship_tag": "ABX9TyNZtXUyCj4tnS9BXiDl64W2",
      "include_colab_link": true
    },
    "kernelspec": {
      "name": "python3",
      "display_name": "Python 3"
    }
  },
  "cells": [
    {
      "cell_type": "markdown",
      "metadata": {
        "id": "view-in-github",
        "colab_type": "text"
      },
      "source": [
        "<a href=\"https://colab.research.google.com/github/TaeYongGong/class2021Spring/blob/main/progarmming.ipynb\" target=\"_parent\"><img src=\"https://colab.research.google.com/assets/colab-badge.svg\" alt=\"Open In Colab\"/></a>"
      ]
    },
    {
      "cell_type": "markdown",
      "metadata": {
        "id": "fsCoyqIJUTq1"
      },
      "source": [
        "# **프로그래밍 Language**\r\n",
        "---\r\n",
        "- 인간의 language : 단어 + 문법 \r\n",
        "- **컴퓨터의 language(프로그래밍 language)** :  단어 == **variable** + 문법 == **제어문** \r\n",
        "  - **variable** = '내용'\r\n",
        "    - 컴퓨터 언어에서 =은 오른쪽의 내용을 왼쪽에 assign하는 것. *assign 표시*\r\n",
        "    - 내용 == 자료형 : 숫자, 문자가 기본\r\n",
        "      - 리스트 : 문자를 여러개 넣고 싶을 때 \r\n",
        "        \r\n",
        "        ex) [1,2,3,..], ['love','in','or'],['love','in',1,2,3]\r\n",
        "      - 튜플 : 리스트하고 거의 동일\r\n",
        "\r\n",
        "        ex) (원소1,원소2,...)\r\n",
        "      - 딕셔너리 : {key : value}\r\n",
        "\r\n",
        "        ex) {'학생1' : 165, '학생2' : 170, '학생3' : 182}\r\n",
        "  - **제어문**에는 두가지가 있음.\r\n",
        "    1. 반복 : for\r\n",
        "    2. 조건 : if\r\n",
        "  ***\r\n",
        "- **함수**\r\n",
        "  - 입출력 관계를 assume\r\n",
        "  - 입력(input) -> 변화(function) -> 출력(output)\r\n",
        "    > ex) y = f(x); y = ax + b; 일차함수 : 원초적 형태의 함수\r\n",
        "  - 함수의 이름을 정의하는 방법 : \r\n",
        "  \r\n",
        "    > function_name_and_input : add(a,b)\r\n",
        "\r\n",
        "     > function : c = a+b\r\n",
        "\r\n",
        "      > output : c\r\n",
        "  - 함수들을 모아놓은 패키지\r\n",
        "    - 클래스\r\n",
        "    - 모듈\r\n",
        "    - 패키지"
      ]
    }
  ]
}