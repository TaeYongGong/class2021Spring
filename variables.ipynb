{
  "nbformat": 4,
  "nbformat_minor": 0,
  "metadata": {
    "kernelspec": {
      "display_name": "Python 3",
      "language": "python",
      "name": "python3"
    },
    "language_info": {
      "codemirror_mode": {
        "name": "ipython",
        "version": 3
      },
      "file_extension": ".py",
      "mimetype": "text/x-python",
      "name": "python",
      "nbconvert_exporter": "python",
      "pygments_lexer": "ipython3",
      "version": "3.7.1"
    },
    "colab": {
      "name": "variables.ipynb의 사본",
      "provenance": [],
      "include_colab_link": true
    }
  },
  "cells": [
    {
      "cell_type": "markdown",
      "metadata": {
        "id": "view-in-github",
        "colab_type": "text"
      },
      "source": [
        "<a href=\"https://colab.research.google.com/github/TaeYongGong/class2021Spring/blob/main/variables.ipynb\" target=\"_parent\"><img src=\"https://colab.research.google.com/assets/colab-badge.svg\" alt=\"Open In Colab\"/></a>"
      ]
    },
    {
      "cell_type": "markdown",
      "metadata": {
        "id": "mtO_bvC3Kmj-"
      },
      "source": [
        "# Variables\r\n",
        "- int\r\n",
        "- str\r\n",
        "- float\r\n",
        "- list \r\n",
        "- tuple\r\n",
        "- dictionary\r\n",
        "- set "
      ]
    },
    {
      "cell_type": "code",
      "metadata": {
        "id": "goAyoU7vRheI",
        "colab": {
          "base_uri": "https://localhost:8080/"
        },
        "outputId": "4daa3d17-8853-47e1-84f4-b6f8c5e9a270"
      },
      "source": [
        "a = 1; print(type(a))"
      ],
      "execution_count": 1,
      "outputs": [
        {
          "output_type": "stream",
          "text": [
            "<class 'int'>\n"
          ],
          "name": "stdout"
        }
      ]
    },
    {
      "cell_type": "code",
      "metadata": {
        "id": "wOMXfjZ3v1wg"
      },
      "source": [
        "a = 1 # int\r\n",
        "b = 'love' # str\r\n",
        "c = [1,2,7]  \r\n",
        "d = [1,'2','love'] # list\r\n",
        "# list  -> 원소는 int, string 둘다 가능하다.\r\n",
        "e = (1,'2,','love') # tuple\r\n",
        "f = {'a' : 165, 'b' : 170, 'c' : 182} # dic\r\n",
        "# type : 타입을 출력해주는 함수"
      ],
      "execution_count": 2,
      "outputs": []
    },
    {
      "cell_type": "code",
      "metadata": {
        "id": "MFUs5NCaIM6F",
        "outputId": "6018cc84-8503-493f-e65e-a426268a9097",
        "colab": {
          "base_uri": "https://localhost:8080/"
        }
      },
      "source": [
        "d[4:]\r\n",
        "# 원소의 개수를 넘으면 빈 리스트를 출력해준다. \r\n",
        "k = []\r\n",
        "type(k)\r\n",
        "# 빈 리스트도 리스트이다.\r\n",
        "[float(4)] \r\n",
        "# 안에 function을 넣어서 실행할 수 있다. \r\n",
        "k += (1,2,3)\r\n",
        "k = [(1,2,3)]\r\n",
        "# 위의 식은 리스트로 인식하여 처리하지만 아래의 식은 tuple로 인식한다. \r\n",
        "k += [1]\r\n",
        "k.append(5)\r\n",
        "# 위의 두가지 방법으로 리스트에 원소를 추가할 수 있다. \r\n",
        "k[1] = -1\r\n",
        "# 이러한 방식으로 원소의 값을 변경할 수 있다. "
      ],
      "execution_count": 16,
      "outputs": [
        {
          "output_type": "execute_result",
          "data": {
            "text/plain": [
              "[(1, 2, 3), 1, 5]"
            ]
          },
          "metadata": {
            "tags": []
          },
          "execution_count": 16
        }
      ]
    },
    {
      "cell_type": "code",
      "metadata": {
        "id": "txxnoqJuRheJ",
        "outputId": "f4d491ea-d81b-4275-aff9-a90a26508f6a",
        "colab": {
          "base_uri": "https://localhost:8080/"
        }
      },
      "source": [
        "a = 1; a = float(a)# change it into float\r\n",
        "print(type(a))"
      ],
      "execution_count": 7,
      "outputs": [
        {
          "output_type": "stream",
          "text": [
            "<class 'float'>\n"
          ],
          "name": "stdout"
        }
      ]
    },
    {
      "cell_type": "code",
      "metadata": {
        "id": "dYC3IryUVxLU",
        "outputId": "ef0ae992-b54d-416c-ba3d-a7655a38b2fc",
        "colab": {
          "base_uri": "https://localhost:8080/"
        }
      },
      "source": [
        "a = [1,2,3]\r\n",
        "a[1] = -1\r\n",
        "# 이러한 \r\n",
        "a[-1]\r\n",
        "a\r\n",
        "# -1은 마지막 원소값을 출력해준다."
      ],
      "execution_count": 24,
      "outputs": [
        {
          "output_type": "execute_result",
          "data": {
            "text/plain": [
              "[1, -1, 3]"
            ]
          },
          "metadata": {
            "tags": []
          },
          "execution_count": 24
        }
      ]
    },
    {
      "cell_type": "code",
      "metadata": {
        "id": "214bIVj8V1o_",
        "outputId": "75df15ef-7dc9-4161-d42d-b954932db904",
        "colab": {
          "base_uri": "https://localhost:8080/"
        }
      },
      "source": [
        "# but if tuple \r\n",
        "a =(1,2,3)\r\n",
        "# a[0] = -1\r\n",
        "# tuple does not support item assignment # tuple은 원소를 추가해 줄 수 없다. \r\n",
        "a[-1]\r\n",
        "# 하지만 indexing은 해줄 수 있다 "
      ],
      "execution_count": 25,
      "outputs": [
        {
          "output_type": "execute_result",
          "data": {
            "text/plain": [
              "3"
            ]
          },
          "metadata": {
            "tags": []
          },
          "execution_count": 25
        }
      ]
    },
    {
      "cell_type": "code",
      "metadata": {
        "id": "By9UCBctRheK",
        "outputId": "5fe6e7d2-f3a8-4c35-9e56-ad63eb99430a",
        "colab": {
          "base_uri": "https://localhost:8080/"
        }
      },
      "source": [
        "a = 1.2; a = int(a); print(type(a))"
      ],
      "execution_count": 26,
      "outputs": [
        {
          "output_type": "stream",
          "text": [
            "<class 'int'>\n"
          ],
          "name": "stdout"
        }
      ]
    },
    {
      "cell_type": "code",
      "metadata": {
        "id": "SyP0PB86RheL",
        "outputId": "a07d04e0-85a3-43f8-bf2e-308307fed2ce",
        "colab": {
          "base_uri": "https://localhost:8080/"
        }
      },
      "source": [
        "a = '123'; print(type(a)); print(a[1])"
      ],
      "execution_count": 27,
      "outputs": [
        {
          "output_type": "stream",
          "text": [
            "<class 'str'>\n",
            "2\n"
          ],
          "name": "stdout"
        }
      ]
    },
    {
      "cell_type": "code",
      "metadata": {
        "id": "byDy9oFERheL",
        "outputId": "c75caa9f-77f6-4f01-d2e8-0a370e968bfe",
        "colab": {
          "base_uri": "https://localhost:8080/"
        }
      },
      "source": [
        "a = '123'; a = list(a); print(type(a)); print(a); print(a[2])\r\n",
        "# list(str)을 하면 split을 한뒤 리스트로 변경해 준다. "
      ],
      "execution_count": 28,
      "outputs": [
        {
          "output_type": "stream",
          "text": [
            "<class 'list'>\n",
            "['1', '2', '3']\n",
            "3\n"
          ],
          "name": "stdout"
        }
      ]
    },
    {
      "cell_type": "code",
      "metadata": {
        "id": "DfS-gknCRheL",
        "outputId": "2d1db3e8-2898-4bc0-f5b2-3c244f758a85",
        "colab": {
          "base_uri": "https://localhost:8080/"
        }
      },
      "source": [
        "a = [1,'2', [3, '4']]; print(type(a)); print(a[0]); print(a[1]); print(a[2])"
      ],
      "execution_count": 29,
      "outputs": [
        {
          "output_type": "stream",
          "text": [
            "<class 'list'>\n",
            "1\n",
            "2\n",
            "[3, '4']\n"
          ],
          "name": "stdout"
        }
      ]
    },
    {
      "cell_type": "code",
      "metadata": {
        "id": "wuUZdEnyRheM",
        "outputId": "386673de-f7dc-4898-dda0-9186a1a03297",
        "colab": {
          "base_uri": "https://localhost:8080/"
        }
      },
      "source": [
        "a = (1,'2', [3, '4']); print(type(a)); print(a[0]); print(a[1]); print(a[2])\r\n",
        "# 튜플도 원소값으로 리스트 혹은 튜플을 가질 수 있다. "
      ],
      "execution_count": 30,
      "outputs": [
        {
          "output_type": "stream",
          "text": [
            "<class 'tuple'>\n",
            "1\n",
            "2\n",
            "[3, '4']\n"
          ],
          "name": "stdout"
        }
      ]
    },
    {
      "cell_type": "code",
      "metadata": {
        "id": "2sivfloGRheM",
        "outputId": "9154839e-2b8a-4233-e0f2-69f50384c6e1",
        "colab": {
          "base_uri": "https://localhost:8080/",
          "height": 75
        }
      },
      "source": [
        "a =\t{\"a\": \"apple\", \"b\": \"orange\", \"c\": 2014}\n",
        "print(type(a))\n",
        "print(a[\"a\"])\n",
        "# key값을 통해 value값을 출력해 준다. \n",
        "a =\t{\"a\": \"apple\", \"b\": \"orange\", \"c\": [1,2,3]}\n",
        "a[\"c\"]\n",
        "# value값에 리스트가 들어갈 수 있다. \n",
        "a =\t{\"a\": \"apple\", \"b\": \"orange\", \"c\": (1,2,3)}\n",
        "# value값에 튜플도 들어갈 수 있다. \n",
        "a =\t{\"a\": \"apple\", \"b\": \"orange\", \"c\": {'d' : 'bean'}}\n",
        "# value값에 dic도 들어갈 수 있다. \n",
        "a[\"c\"][\"d\"]\n",
        "# 중첩 dictionary에서 검색을 할 수 있다. "
      ],
      "execution_count": 38,
      "outputs": [
        {
          "output_type": "stream",
          "text": [
            "<class 'dict'>\n",
            "apple\n"
          ],
          "name": "stdout"
        },
        {
          "output_type": "execute_result",
          "data": {
            "application/vnd.google.colaboratory.intrinsic+json": {
              "type": "string"
            },
            "text/plain": [
              "'bean'"
            ]
          },
          "metadata": {
            "tags": []
          },
          "execution_count": 38
        }
      ]
    },
    {
      "cell_type": "code",
      "metadata": {
        "id": "A7teRXuCRheN",
        "outputId": "25d651d0-64f4-4115-b467-e2048ff10035",
        "colab": {
          "base_uri": "https://localhost:8080/"
        }
      },
      "source": [
        "a=[(1,2,3), (3,8,0)]\n",
        "print(type(a))\n",
        "a"
      ],
      "execution_count": 35,
      "outputs": [
        {
          "output_type": "stream",
          "text": [
            "<class 'list'>\n"
          ],
          "name": "stdout"
        },
        {
          "output_type": "execute_result",
          "data": {
            "text/plain": [
              "[(1, 2, 3), (3, 8, 0)]"
            ]
          },
          "metadata": {
            "tags": []
          },
          "execution_count": 35
        }
      ]
    },
    {
      "cell_type": "code",
      "metadata": {
        "id": "E11kWzvAM7f8"
      },
      "source": [
        "a=[(1,2,3), (3,8,0)]\r\n",
        "a[0][1]\r\n",
        "# 중첩 리스트 indexing\r\n",
        "a=[[1,2,3], [3,8,0]]\r\n",
        "a[1].append(5)\r\n",
        "# 중첩리스트에 append을 할 수 있다. "
      ],
      "execution_count": 40,
      "outputs": []
    }
  ]
}